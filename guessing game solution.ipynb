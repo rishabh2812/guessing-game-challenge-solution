{
 "cells": [
  {
   "cell_type": "markdown",
   "metadata": {},
   "source": [
    "# Guessing Game Challenge\n",
    "\n",
    "Let's use `while` loops to create a guessing game.\n",
    "\n",
    "The Challenge:\n",
    "\n",
    "Write a program that picks a random integer from 1 to 100, and has players guess the number. The rules are:\n",
    "\n",
    "1. If a player's guess is less than 1 or greater than 100, say \"OUT OF BOUNDS\"\n",
    "2. On a player's first turn, if their guess is\n",
    " * within 10 of the number, return \"WARM!\"\n",
    " * further than 10 away from the number, return \"COLD!\"\n",
    "3. On all subsequent turns, if a guess is \n",
    " * closer to the number than the previous guess return \"WARMER!\"\n",
    " * farther from the number than the previous guess, return \"COLDER!\"\n",
    "4. When the player's guess equals the number, tell them they've guessed correctly *and* how many guesses it took!\n",
    "\n",
    "You can try this from scratch, or follow the steps outlined below. A separate Solution notebook has been provided. Good luck!\n"
   ]
  },
  {
   "cell_type": "markdown",
   "metadata": {},
   "source": [
    "#### First, pick a random integer from 1 to 100 using the random module and assign it to a variable\n",
    "\n",
    "Note: `random.randint(a,b)` returns a random integer in range `[a, b]`, including both end points.\n"
   ]
  },
  {
   "cell_type": "code",
   "execution_count": 1,
   "metadata": {},
   "outputs": [
    {
     "name": "stdout",
     "output_type": "stream",
     "text": [
      "RULES OF THE GAME:-\n",
      "1.If a player's guess is less than 1 or greater than 100, say 'OUT OF BOUNDS'\n",
      "2.On a player's first turn, if their guess is\n",
      "within 10 of the number, return 'WARM!'\n",
      "further than 10 away from the number, return 'COLD!'\n",
      "3.On all subsequent turns, if a guess is\n",
      "closer to the number than the previous guess return 'WARMER!'\n",
      "farther from the number than the previous guess, return 'COLDER!'\n",
      "4.When the player's guess equals the number, tell them they've guessed correctly and how many guesses it took!\n",
      "74\n",
      "Enter the guess25\n",
      "cold\n",
      "Enter your guess69\n",
      "warmer\n",
      "Enter your guess68\n",
      "colder\n",
      "Enter your guess75\n",
      "warmer\n",
      "Enter your guess76\n",
      "colder\n",
      "Enter your guess72\n",
      "colder\n",
      "Enter your guess74\n",
      "you guessed right in 7 attempts\n",
      "Your guesses are  [69, 68, 75, 76, 72, 74]\n"
     ]
    }
   ],
   "source": [
    "import random\n",
    "print(\"RULES OF THE GAME:-\")\n",
    "print(\"1.If a player's guess is less than 1 or greater than 100, say 'OUT OF BOUNDS'\")\n",
    "print(\"2.On a player's first turn, if their guess is\")\n",
    "print(\"within 10 of the number, return 'WARM!'\")\n",
    "print(\"further than 10 away from the number, return 'COLD!'\")\n",
    "print(\"3.On all subsequent turns, if a guess is\")\n",
    "print(\"closer to the number than the previous guess return 'WARMER!'\")\n",
    "print(\"farther from the number than the previous guess, return 'COLDER!'\")\n",
    "print(\"4.When the player's guess equals the number, tell them they've guessed correctly and how many guesses it took!\")\n",
    "list1=[]\n",
    "a=random.randint(1,100)\n",
    "print(a)\n",
    "guess=int(input(\"Enter the guess\"))\n",
    "diff=abs(guess-a)\n",
    "if(guess==a):\n",
    "    print(\"You won\")\n",
    "elif(abs(guess-a)<=10):\n",
    "    print(\"warm\")\n",
    "else:\n",
    "    print(\"cold\")\n",
    "while(diff!=0):\n",
    "    guess1=int(input(\"Enter your guess\"))\n",
    "    if(guess1>100 or guess1<0):\n",
    "        print(\"out of bounds\")\n",
    "    elif(guess1==a):\n",
    "        list1.append(guess1)\n",
    "        diff=0\n",
    "    elif(abs(guess1-a)<diff):\n",
    "        list1.append(guess1)\n",
    "        print(\"warmer\")\n",
    "        diff=abs(guess1-a)\n",
    "    elif(abs(guess1-a)>=diff):\n",
    "        list1.append(guess1)\n",
    "        print(\"colder\")\n",
    "        diff=abs(guess1-a)\n",
    "print(\"you guessed right in\",len(list1)+1,\"attempts\")\n",
    "print(\"Your guesses are \",list1)\n"
   ]
  },
  {
   "cell_type": "code",
   "execution_count": null,
   "metadata": {},
   "outputs": [],
   "source": []
  }
 ],
 "metadata": {
  "kernelspec": {
   "display_name": "Python 3",
   "language": "python",
   "name": "python3"
  },
  "language_info": {
   "codemirror_mode": {
    "name": "ipython",
    "version": 3
   },
   "file_extension": ".py",
   "mimetype": "text/x-python",
   "name": "python",
   "nbconvert_exporter": "python",
   "pygments_lexer": "ipython3",
   "version": "3.7.6"
  }
 },
 "nbformat": 4,
 "nbformat_minor": 2
}
